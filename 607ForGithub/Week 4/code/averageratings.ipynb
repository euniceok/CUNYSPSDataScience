{
 "cells": [
  {
   "cell_type": "code",
   "execution_count": 1,
   "metadata": {},
   "outputs": [],
   "source": [
    "import pandas as pd"
   ]
  },
  {
   "cell_type": "code",
   "execution_count": 4,
   "metadata": {},
   "outputs": [],
   "source": [
    "file = '/Users/euniceok/PycharmProjects/cuny/spring2019/Week4/output/tournamenttmpdf.csv'"
   ]
  },
  {
   "cell_type": "code",
   "execution_count": 12,
   "metadata": {},
   "outputs": [],
   "source": [
    "df = pd.read_csv(file)\n",
    "df = df.drop('Unnamed: 0',axis=1)"
   ]
  },
  {
   "cell_type": "code",
   "execution_count": 13,
   "metadata": {},
   "outputs": [
    {
     "data": {
      "text/html": [
       "<div>\n",
       "<style scoped>\n",
       "    .dataframe tbody tr th:only-of-type {\n",
       "        vertical-align: middle;\n",
       "    }\n",
       "\n",
       "    .dataframe tbody tr th {\n",
       "        vertical-align: top;\n",
       "    }\n",
       "\n",
       "    .dataframe thead th {\n",
       "        text-align: right;\n",
       "    }\n",
       "</style>\n",
       "<table border=\"1\" class=\"dataframe\">\n",
       "  <thead>\n",
       "    <tr style=\"text-align: right;\">\n",
       "      <th></th>\n",
       "      <th>num</th>\n",
       "      <th>name</th>\n",
       "      <th>totpts</th>\n",
       "      <th>state</th>\n",
       "      <th>player_id</th>\n",
       "      <th>prescore</th>\n",
       "      <th>postscore</th>\n",
       "      <th>round1</th>\n",
       "      <th>round2</th>\n",
       "      <th>round3</th>\n",
       "      <th>round4</th>\n",
       "      <th>round5</th>\n",
       "      <th>round6</th>\n",
       "      <th>round7</th>\n",
       "    </tr>\n",
       "  </thead>\n",
       "  <tbody>\n",
       "    <tr>\n",
       "      <th>0</th>\n",
       "      <td>1</td>\n",
       "      <td>GARY HUA</td>\n",
       "      <td>6.0</td>\n",
       "      <td>ON</td>\n",
       "      <td>15445895</td>\n",
       "      <td>1794</td>\n",
       "      <td>1817</td>\n",
       "      <td>39.0</td>\n",
       "      <td>21.0</td>\n",
       "      <td>18.0</td>\n",
       "      <td>14.0</td>\n",
       "      <td>7.0</td>\n",
       "      <td>12.0</td>\n",
       "      <td>4.0</td>\n",
       "    </tr>\n",
       "    <tr>\n",
       "      <th>1</th>\n",
       "      <td>2</td>\n",
       "      <td>DAKSHESH DARURI</td>\n",
       "      <td>6.0</td>\n",
       "      <td>MI</td>\n",
       "      <td>14598900</td>\n",
       "      <td>1553</td>\n",
       "      <td>1663</td>\n",
       "      <td>63.0</td>\n",
       "      <td>58.0</td>\n",
       "      <td>4.0</td>\n",
       "      <td>17.0</td>\n",
       "      <td>16.0</td>\n",
       "      <td>20.0</td>\n",
       "      <td>7.0</td>\n",
       "    </tr>\n",
       "    <tr>\n",
       "      <th>2</th>\n",
       "      <td>3</td>\n",
       "      <td>ADITYA BAJAJ</td>\n",
       "      <td>6.0</td>\n",
       "      <td>MI</td>\n",
       "      <td>14959604</td>\n",
       "      <td>1384</td>\n",
       "      <td>1640</td>\n",
       "      <td>8.0</td>\n",
       "      <td>61.0</td>\n",
       "      <td>25.0</td>\n",
       "      <td>21.0</td>\n",
       "      <td>11.0</td>\n",
       "      <td>13.0</td>\n",
       "      <td>12.0</td>\n",
       "    </tr>\n",
       "    <tr>\n",
       "      <th>3</th>\n",
       "      <td>4</td>\n",
       "      <td>PATRICK H SCHILLING</td>\n",
       "      <td>5.5</td>\n",
       "      <td>MI</td>\n",
       "      <td>12616049</td>\n",
       "      <td>1716</td>\n",
       "      <td>1744</td>\n",
       "      <td>23.0</td>\n",
       "      <td>28.0</td>\n",
       "      <td>2.0</td>\n",
       "      <td>26.0</td>\n",
       "      <td>5.0</td>\n",
       "      <td>19.0</td>\n",
       "      <td>1.0</td>\n",
       "    </tr>\n",
       "    <tr>\n",
       "      <th>4</th>\n",
       "      <td>5</td>\n",
       "      <td>HANSHI ZUO</td>\n",
       "      <td>5.5</td>\n",
       "      <td>MI</td>\n",
       "      <td>14601533</td>\n",
       "      <td>1655</td>\n",
       "      <td>1690</td>\n",
       "      <td>45.0</td>\n",
       "      <td>37.0</td>\n",
       "      <td>12.0</td>\n",
       "      <td>13.0</td>\n",
       "      <td>4.0</td>\n",
       "      <td>14.0</td>\n",
       "      <td>17.0</td>\n",
       "    </tr>\n",
       "  </tbody>\n",
       "</table>\n",
       "</div>"
      ],
      "text/plain": [
       "   num                               name  totpts   state  player_id  \\\n",
       "0    1   GARY HUA                             6.0     ON    15445895   \n",
       "1    2   DAKSHESH DARURI                      6.0     MI    14598900   \n",
       "2    3   ADITYA BAJAJ                         6.0     MI    14959604   \n",
       "3    4   PATRICK H SCHILLING                  5.5     MI    12616049   \n",
       "4    5   HANSHI ZUO                           5.5     MI    14601533   \n",
       "\n",
       "   prescore  postscore  round1  round2  round3  round4  round5  round6  round7  \n",
       "0      1794       1817    39.0    21.0    18.0    14.0     7.0    12.0     4.0  \n",
       "1      1553       1663    63.0    58.0     4.0    17.0    16.0    20.0     7.0  \n",
       "2      1384       1640     8.0    61.0    25.0    21.0    11.0    13.0    12.0  \n",
       "3      1716       1744    23.0    28.0     2.0    26.0     5.0    19.0     1.0  \n",
       "4      1655       1690    45.0    37.0    12.0    13.0     4.0    14.0    17.0  "
      ]
     },
     "execution_count": 13,
     "metadata": {},
     "output_type": "execute_result"
    }
   ],
   "source": [
    "df.head()"
   ]
  },
  {
   "cell_type": "code",
   "execution_count": 14,
   "metadata": {},
   "outputs": [
    {
     "data": {
      "text/plain": [
       "numpy.int64"
      ]
     },
     "execution_count": 14,
     "metadata": {},
     "output_type": "execute_result"
    }
   ],
   "source": [
    "type(df.num[0])"
   ]
  },
  {
   "cell_type": "code",
   "execution_count": 17,
   "metadata": {},
   "outputs": [
    {
     "data": {
      "text/plain": [
       "Index(['num', 'name', 'totpts', 'state', 'player_id', 'prescore', 'postscore',\n",
       "       'round1', 'round2', 'round3', 'round4', 'round5', 'round6', 'round7'],\n",
       "      dtype='object')"
      ]
     },
     "execution_count": 17,
     "metadata": {},
     "output_type": "execute_result"
    }
   ],
   "source": [
    "df.columns"
   ]
  },
  {
   "cell_type": "code",
   "execution_count": 57,
   "metadata": {},
   "outputs": [],
   "source": [
    "# create new column\n",
    "df['avg_opps_presc'] = None"
   ]
  },
  {
   "cell_type": "code",
   "execution_count": 59,
   "metadata": {},
   "outputs": [],
   "source": [
    "for player in df.num:\n",
    "    playerrow = df.loc[df.num.eq(player)][['round1', 'round2', 'round3', 'round4', 'round5', 'round6', 'round7']]\n",
    "    playerrow = playerrow.iloc[0]\n",
    "    opps = df.loc[df.num.isin(playerrow)]\n",
    "    oppsmean = opps['prescore'].mean() \n",
    "     # print(player,\"   \", oppsmean)\n",
    "    df.loc[df.num.eq(player), 'avg_opps_presc'] = oppsmean"
   ]
  },
  {
   "cell_type": "code",
   "execution_count": 65,
   "metadata": {
    "scrolled": true
   },
   "outputs": [
    {
     "data": {
      "text/html": [
       "<div>\n",
       "<style scoped>\n",
       "    .dataframe tbody tr th:only-of-type {\n",
       "        vertical-align: middle;\n",
       "    }\n",
       "\n",
       "    .dataframe tbody tr th {\n",
       "        vertical-align: top;\n",
       "    }\n",
       "\n",
       "    .dataframe thead th {\n",
       "        text-align: right;\n",
       "    }\n",
       "</style>\n",
       "<table border=\"1\" class=\"dataframe\">\n",
       "  <thead>\n",
       "    <tr style=\"text-align: right;\">\n",
       "      <th></th>\n",
       "      <th>name</th>\n",
       "      <th>state</th>\n",
       "      <th>totpts</th>\n",
       "      <th>prescore</th>\n",
       "      <th>avg_opps_presc</th>\n",
       "    </tr>\n",
       "  </thead>\n",
       "  <tbody>\n",
       "    <tr>\n",
       "      <th>0</th>\n",
       "      <td>GARY HUA</td>\n",
       "      <td>ON</td>\n",
       "      <td>6.0</td>\n",
       "      <td>1794</td>\n",
       "      <td>1605.29</td>\n",
       "    </tr>\n",
       "    <tr>\n",
       "      <th>1</th>\n",
       "      <td>DAKSHESH DARURI</td>\n",
       "      <td>MI</td>\n",
       "      <td>6.0</td>\n",
       "      <td>1553</td>\n",
       "      <td>1469.29</td>\n",
       "    </tr>\n",
       "    <tr>\n",
       "      <th>2</th>\n",
       "      <td>ADITYA BAJAJ</td>\n",
       "      <td>MI</td>\n",
       "      <td>6.0</td>\n",
       "      <td>1384</td>\n",
       "      <td>1563.57</td>\n",
       "    </tr>\n",
       "    <tr>\n",
       "      <th>3</th>\n",
       "      <td>PATRICK H SCHILLING</td>\n",
       "      <td>MI</td>\n",
       "      <td>5.5</td>\n",
       "      <td>1716</td>\n",
       "      <td>1573.57</td>\n",
       "    </tr>\n",
       "    <tr>\n",
       "      <th>4</th>\n",
       "      <td>HANSHI ZUO</td>\n",
       "      <td>MI</td>\n",
       "      <td>5.5</td>\n",
       "      <td>1655</td>\n",
       "      <td>1500.86</td>\n",
       "    </tr>\n",
       "  </tbody>\n",
       "</table>\n",
       "</div>"
      ],
      "text/plain": [
       "                                name   state  totpts  prescore avg_opps_presc\n",
       "0   GARY HUA                             ON      6.0      1794        1605.29\n",
       "1   DAKSHESH DARURI                      MI      6.0      1553        1469.29\n",
       "2   ADITYA BAJAJ                         MI      6.0      1384        1563.57\n",
       "3   PATRICK H SCHILLING                  MI      5.5      1716        1573.57\n",
       "4   HANSHI ZUO                           MI      5.5      1655        1500.86"
      ]
     },
     "execution_count": 65,
     "metadata": {},
     "output_type": "execute_result"
    }
   ],
   "source": [
    "final = df[['name','state','totpts','prescore','avg_opps_presc']]\n",
    "final.head()"
   ]
  },
  {
   "cell_type": "code",
   "execution_count": 64,
   "metadata": {},
   "outputs": [],
   "source": [
    "final.to_csv('/Users/euniceok/PycharmProjects/cuny/spring2019/Week4/tournamentfinal.csv')"
   ]
  }
 ],
 "metadata": {
  "kernelspec": {
   "display_name": "Python 3",
   "language": "python",
   "name": "python3"
  },
  "language_info": {
   "codemirror_mode": {
    "name": "ipython",
    "version": 3
   },
   "file_extension": ".py",
   "mimetype": "text/x-python",
   "name": "python",
   "nbconvert_exporter": "python",
   "pygments_lexer": "ipython3",
   "version": "3.6.6"
  }
 },
 "nbformat": 4,
 "nbformat_minor": 2
}
